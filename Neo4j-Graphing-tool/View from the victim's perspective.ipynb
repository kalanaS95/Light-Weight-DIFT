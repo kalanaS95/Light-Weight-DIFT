{
 "cells": [
  {
   "cell_type": "code",
   "execution_count": 1,
   "id": "4439595e",
   "metadata": {},
   "outputs": [],
   "source": [
    "import json\n",
    "import re\n",
    "from neo4j import GraphDatabase\n",
    "processes_list = []\n",
    "SSH_processes = []\n",
    "SSH_parent_processes = []\n",
    "SCP_processes = []\n",
    "screen_grab_process = 0"
   ]
  },
  {
   "cell_type": "code",
   "execution_count": 2,
   "id": "dd42e962",
   "metadata": {},
   "outputs": [],
   "source": [
    "connection_URI=\"bolt://localhost:11008\"\n",
    "username=\"neo4j\"\n",
    "password=\"131kalana\""
   ]
  },
  {
   "cell_type": "code",
   "execution_count": 3,
   "id": "f57251d9",
   "metadata": {},
   "outputs": [],
   "source": [
    "class Neo4jConnection:\n",
    "    \n",
    "    def __init__(self, uri, user, pwd):\n",
    "        self.__uri = uri\n",
    "        self.__user = user\n",
    "        self.__pwd = pwd\n",
    "        self.__driver = None\n",
    "        try:\n",
    "            self.__driver = GraphDatabase.driver(self.__uri, auth=(self.__user, self.__pwd))\n",
    "        except Exception as e:\n",
    "            print(\"Failed to create the driver:\", e)\n",
    "        \n",
    "    def close(self):\n",
    "        if self.__driver is not None:\n",
    "            self.__driver.close()\n",
    "        \n",
    "    def query(self, query, db=None):\n",
    "        assert self.__driver is not None, \"Driver not initialized!\"\n",
    "        session = None\n",
    "        response = None\n",
    "        try: \n",
    "            session = self.__driver.session(database=db) if db is not None else self.__driver.session() \n",
    "            response = list(session.run(query))\n",
    "        except Exception as e:\n",
    "            print(\"Query failed:\", e)\n",
    "        finally: \n",
    "            if session is not None:\n",
    "                session.close()\n",
    "        return response"
   ]
  },
  {
   "cell_type": "code",
   "execution_count": 4,
   "id": "03d691cc",
   "metadata": {},
   "outputs": [],
   "source": [
    "def add_fork_elements(split_list):\n",
    "    del split_list[:2]\n",
    "    processes_list.append({\"PID\": split_list[0].strip(), \"PPID\":split_list[1], \"EXEC\":[]})"
   ]
  },
  {
   "cell_type": "code",
   "execution_count": 5,
   "id": "83912e2f",
   "metadata": {},
   "outputs": [],
   "source": [
    "def add_exec_elements(split_list):\n",
    "    del split_list[:2]\n",
    "    # Find the corresponding PID in the list and add the executable command to the element\n",
    "    for curr in processes_list:\n",
    "        if split_list[0].strip() == curr[\"PID\"]:\n",
    "            if split_list[1] != '': # this will avoid adding any empty strings \n",
    "                curr[\"EXEC\"].append(split_list[1])\n",
    "            return"
   ]
  },
  {
   "cell_type": "code",
   "execution_count": 6,
   "id": "0479a705",
   "metadata": {},
   "outputs": [],
   "source": [
    "def read_and_add_to_list():\n",
    "    # this flag will help to skip parent id of the first process\n",
    "    is_first_line_read = False \n",
    "    with open(\"log.txt\") as trace_file:\n",
    "        for line in trace_file:\n",
    "            # when we find the kill signal we stop reading log file\n",
    "            if \"bash -c sleep 20; pkill -SIGINT logger\" in line:\n",
    "                break\n",
    "                \n",
    "            if is_first_line_read == False:\n",
    "                is_first_line_read = True\n",
    "            else:\n",
    "                #check if the line is FORK or EXEC\n",
    "                if \"FORK:\" in line:\n",
    "                    add_fork_elements(re.split(\"FORK:|PID=|PPID=\", line.strip()))\n",
    "                else:\n",
    "                    add_exec_elements(re.split(\"EXEC:|PID=|CMD=\", line.strip()))\n"
   ]
  },
  {
   "cell_type": "code",
   "execution_count": 7,
   "id": "09f31a2b",
   "metadata": {},
   "outputs": [],
   "source": [
    "def find_and_follow_SSH_processes():\n",
    "    #find the SSH process in the processes list\n",
    "    for curr in processes_list:\n",
    "        for curr_string in curr[\"EXEC\"]:\n",
    "            if \"sshd\" in curr_string or \"scp\" in curr_string:\n",
    "                SSH_processes.append(curr[\"PID\"])\n",
    "            "
   ]
  },
  {
   "cell_type": "code",
   "execution_count": 8,
   "id": "5906ffcb",
   "metadata": {},
   "outputs": [],
   "source": [
    "def follow_and_processes_to_SSH_list(list, index):\n",
    "    if index > len(SSH_processes) - 1:\n",
    "        return\n",
    "    else:\n",
    "        for curr in processes_list:\n",
    "            if curr[\"PPID\"] == SSH_processes[index]:\n",
    "                SSH_processes.append(curr[\"PID\"])\n",
    "    follow_and_processes_to_SSH_list(list, index + 1)"
   ]
  },
  {
   "cell_type": "code",
   "execution_count": 9,
   "id": "bb2976fc",
   "metadata": {},
   "outputs": [],
   "source": [
    "def add_nodes_and_relations_to_db():\n",
    "    conn = Neo4jConnection(uri=connection_URI, user=username, pwd=password)\n",
    "    conn.query(\"CREATE OR REPLACE DATABASE processTraceVictim\")\n",
    "    #clear all the data in the database\n",
    "    conn.query(\"match (n) detach delete (n)\")\n",
    "    for curr_process in processes_list:\n",
    "        execs = '\\n'.join(curr_process[\"EXEC\"])\n",
    "        if \"sshd\" in execs:\n",
    "            SSH_parent_processes.append(curr_process[\"PID\"])\n",
    "            conn.query(\"create(n:ssh_process{_pid: \" +curr_process[\"PID\"]+ \", Executable: '\"+ execs+\"'})\")\n",
    "        elif \"scp\" in execs:\n",
    "            SCP_processes.append(curr_process[\"PID\"])\n",
    "            conn.query(\"create(n:scp_process{_pid: \" +curr_process[\"PID\"]+ \", Executable: '\"+ execs+\"'})\")\n",
    "        elif set(execs) == set('./screengrab /home/kalana/Desktop/attack'):\n",
    "            screen_grab_process = curr_process[\"PID\"]\n",
    "            conn.query(\"create(n:screengrab_process{_pid: \" +curr_process[\"PID\"]+ \", Executable: '\"+ execs+\"'})\")\n",
    "        elif curr_process[\"PID\"] in SSH_processes:\n",
    "            conn.query(\"create(n:attack_process{_pid: \" +curr_process[\"PID\"]+ \", Executable: '\"+ execs+\"'})\")\n",
    "        else:\n",
    "            conn.query(\"create(n:background_process{_pid: \" +curr_process[\"PID\"]+ \", Executable: '\"+ execs+\"'})\")\n",
    "\n",
    "    # adding relations between nodes\n",
    "    for curr_process in processes_list:\n",
    "        if curr_process[\"PID\"] not in SSH_parent_processes and curr_process[\"PID\"] not in SCP_processes and curr_process[\"PID\"] != screen_grab_process:\n",
    "            for lookup_process in processes_list:\n",
    "                if curr_process[\"PPID\"] == lookup_process[\"PID\"] and lookup_process[\"PID\"] not in SSH_parent_processes and lookup_process[\"PID\"] not in SCP_processes and lookup_process[\"PID\"] != screen_grab_process:\n",
    "                    if curr_process[\"PPID\"] in SSH_processes and curr_process[\"PID\"] in SSH_processes:\n",
    "                        conn.query(\"match (n:attack_process), (p:attack_process) where n._pid=\"+curr_process['PPID'] +\n",
    "                        \" and p._pid=\" + curr_process[\"PID\"] + \" create (n)-[r:spawns]->(p)\")      \n",
    "                    elif curr_process[\"PPID\"] in SSH_processes and curr_process[\"PID\"] not in SSH_processes:\n",
    "                        conn.query(\"match (n:attack_process), (p:background_process) where n._pid=\"+curr_process['PPID'] +\n",
    "                        \" and p._pid=\" + curr_process[\"PID\"] + \" create (n)-[r:spawns]->(p)\")     \n",
    "                    elif curr_process[\"PPID\"] not in SSH_processes and curr_process[\"PID\"] in SSH_processes:\n",
    "                        conn.query(\"match (n:background_process), (p:attack_process) where n._pid=\"+curr_process['PPID'] +\n",
    "                            \" and p._pid=\" + curr_process[\"PID\"] + \" create (n)-[r:spawns]->(p)\")\n",
    "                    else:\n",
    "                        conn.query(\"match (n:background_process), (p:background_process) where n._pid=\"+curr_process['PPID'] +\n",
    "                        \" and p._pid=\" + curr_process[\"PID\"] + \" create (n)-[r:spawns]->(p)\")\n",
    "                    break\n",
    "        else:\n",
    "            # add relationship for SSH parent processes\n",
    "            if curr_process[\"PID\"] in SSH_parent_processes:\n",
    "                for child_process in processes_list:\n",
    "                    if child_process[\"PPID\"] == curr_process[\"PID\"]:\n",
    "                        conn.query(\"match (n:ssh_process), (p:attack_process) where n._pid=\"+curr_process[\"PID\"] +\n",
    "                        \" and p._pid=\" + child_process[\"PID\"] + \" create (n)-[r:spawns]->(p)\")\n",
    "            \n",
    "            # add relationship for scp process\n",
    "            if curr_process[\"PID\"] in SCP_processes:\n",
    "                for child_process in processes_list:\n",
    "                    if child_process[\"PID\"] == curr_process[\"PPID\"]:\n",
    "                        conn.query(\"match (n:background_process), (p:scp_process) where n._pid=\"+child_process[\"PID\"] +\n",
    "                        \" and p._pid=\" + curr_process[\"PID\"] + \" create (n)-[r:spawns]->(p)\")\n",
    "                        \n",
    "            # add relationship for screengrab process\n",
    "            if curr_process[\"PID\"] == screen_grab_process:\n",
    "                for child_process in processes_list:\n",
    "                    if child_process[\"PID\"] == curr_process[\"PPID\"]:\n",
    "                        conn.query(\"match (n:attack_process), (p:screengrab_process) where n._pid=\"+child_process[\"PID\"] +\n",
    "                        \" and p._pid=\" + curr_process[\"PID\"] + \" create (n)-[r:spawns]->(p)\")\n",
    "\n",
    "        #print(\"Not found: \", curr_process[\"PPID\"], curr_process[\"PID\"])\n"
   ]
  },
  {
   "cell_type": "code",
   "execution_count": 10,
   "id": "f3d95a9b",
   "metadata": {},
   "outputs": [],
   "source": [
    "def main():\n",
    "    read_and_add_to_list()\n",
    "    find_and_follow_SSH_processes()\n",
    "    follow_and_processes_to_SSH_list(SSH_processes, 0)\n",
    "    add_nodes_and_relations_to_db()"
   ]
  },
  {
   "cell_type": "code",
   "execution_count": 11,
   "id": "0644c4ca",
   "metadata": {},
   "outputs": [],
   "source": [
    "if __name__ == \"__main__\":\n",
    "    main()"
   ]
  },
  {
   "cell_type": "code",
   "execution_count": 12,
   "id": "2014f47e",
   "metadata": {},
   "outputs": [
    {
     "data": {
      "text/plain": [
       "True"
      ]
     },
     "execution_count": 12,
     "metadata": {},
     "output_type": "execute_result"
    }
   ],
   "source": [
    "import webbrowser\n",
    "webbrowser.open(\"view-from-the-victims-perspective.html\")"
   ]
  },
  {
   "cell_type": "code",
   "execution_count": null,
   "id": "ba17d5a1",
   "metadata": {},
   "outputs": [],
   "source": []
  }
 ],
 "metadata": {
  "kernelspec": {
   "display_name": "Python 3",
   "language": "python",
   "name": "python3"
  },
  "language_info": {
   "codemirror_mode": {
    "name": "ipython",
    "version": 3
   },
   "file_extension": ".py",
   "mimetype": "text/x-python",
   "name": "python",
   "nbconvert_exporter": "python",
   "pygments_lexer": "ipython3",
   "version": "3.8.5"
  }
 },
 "nbformat": 4,
 "nbformat_minor": 5
}
