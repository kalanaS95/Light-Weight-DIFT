{
 "cells": [
  {
   "cell_type": "raw",
   "id": "fc757353",
   "metadata": {
    "scrolled": true
   },
   "source": [
    "import json\n",
    "from neo4j import GraphDatabase\n",
    "processes_list = []"
   ]
  },
  {
   "cell_type": "code",
   "execution_count": null,
   "id": "83025836",
   "metadata": {},
   "outputs": [],
   "source": [
    "connection_URI=\"bolt://localhost:11003\"\n",
    "username=\"neo4j\"\n",
    "password=\"131kalana\""
   ]
  },
  {
   "cell_type": "code",
   "execution_count": null,
   "id": "99dab3fd",
   "metadata": {},
   "outputs": [],
   "source": [
    "class Neo4jConnection:\n",
    "    \n",
    "    def __init__(self, uri, user, pwd):\n",
    "        self.__uri = uri\n",
    "        self.__user = user\n",
    "        self.__pwd = pwd\n",
    "        self.__driver = None\n",
    "        try:\n",
    "            self.__driver = GraphDatabase.driver(self.__uri, auth=(self.__user, self.__pwd))\n",
    "        except Exception as e:\n",
    "            print(\"Failed to create the driver:\", e)\n",
    "        \n",
    "    def close(self):\n",
    "        if self.__driver is not None:\n",
    "            self.__driver.close()\n",
    "        \n",
    "    def query(self, query, db=None):\n",
    "        assert self.__driver is not None, \"Driver not initialized!\"\n",
    "        session = None\n",
    "        response = None\n",
    "        try: \n",
    "            session = self.__driver.session(database=db) if db is not None else self.__driver.session() \n",
    "            response = list(session.run(query))\n",
    "        except Exception as e:\n",
    "            print(\"Query failed:\", e)\n",
    "        finally: \n",
    "            if session is not None:\n",
    "                session.close()\n",
    "        return response\n"
   ]
  },
  {
   "cell_type": "code",
   "execution_count": null,
   "id": "66c52f44",
   "metadata": {},
   "outputs": [],
   "source": [
    "def check_process_exists(split_string):\n",
    "    \n",
    "    for curr in processes_list:\n",
    "        if(curr['PID']) == split_string[1]:\n",
    "            temp = (\" \".join(split_string[4:len(split_string)])).split(\";\")\n",
    "            curr['Executable'].append(\"\\n\" + \"\\n\".join(temp))\n",
    "            return True\n",
    "    \n",
    "    temp = (\" \".join(split_string[4:len(split_string)])).split(\";\")\n",
    "    processes_list.append({\"PID\": split_string[1], \"User\": split_string[2],\n",
    "                \"Group\": split_string[3], \"Executable\": [\"\\n\" + \"\\n\".join(temp)], \"Children\": []})\n",
    "    return False"
   ]
  },
  {
   "cell_type": "code",
   "execution_count": null,
   "id": "60a5d8f2",
   "metadata": {},
   "outputs": [],
   "source": [
    "def add_child_process(PPID, PID):\n",
    "    for curr in processes_list:\n",
    "        if curr['PID'] == PPID:\n",
    "            if PID not in curr['Children']:\n",
    "                curr['Children'].append(PID)"
   ]
  },
  {
   "cell_type": "code",
   "execution_count": null,
   "id": "d008f666",
   "metadata": {},
   "outputs": [],
   "source": [
    "def read_and_convert_to_JSON():\n",
    "    # this flag will help to skip parent id of the first process\n",
    "    is_first_line_read = False \n",
    "    with open(\"processtrace.txt\") as trace_file:\n",
    "        for line in trace_file:\n",
    "            if is_first_line_read == False:\n",
    "                is_first_line_read = True\n",
    "                split_string = line.split()\n",
    "                # manually adding the bash parent\n",
    "                temp = (\" \".join(split_string[4:len(split_string)])).split(\";\")\n",
    "                processes_list.append({\"PID\": split_string[1], \"User\": split_string[2],\n",
    "                \"Group\": split_string[3], \"Executable\": [\"\\n\"+\"\\n\".join(temp) ], \"Children\": []})\n",
    "            else:\n",
    "                split_string = line.split()\n",
    "                check_process_exists(split_string)\n",
    "\n",
    "    is_first_line_read = False                \n",
    "    with open(\"processtrace.txt\") as trace_file:\n",
    "        for line in trace_file:\n",
    "            if is_first_line_read == False:\n",
    "                is_first_line_read = True\n",
    "            else:\n",
    "                split_string = line.split()\n",
    "                add_child_process(split_string[0], split_string[1])\n",
    "                \n",
    "    "
   ]
  },
  {
   "cell_type": "code",
   "execution_count": null,
   "id": "903868a3",
   "metadata": {},
   "outputs": [],
   "source": [
    "def main():\n",
    "    read_and_convert_to_JSON()\n",
    "    conn = Neo4jConnection(uri=connection_URI, user=username, pwd=password)\n",
    "    conn.query(\"CREATE OR REPLACE DATABASE processTrace\")\n",
    "    #clear all the data in the database\n",
    "    conn.query(\"match (n) detach delete (n)\")\n",
    "    # this flag helps to find the first element, I.e parent point/ entry process\n",
    "    is_first = True\n",
    "    # this loop will add nodes to the graphing database\n",
    "    for curr_process in processes_list:\n",
    "        execs = '\\n'.join(curr_process['Executable'])\n",
    "        if is_first:\n",
    "            conn.query(\"create(n:entry_process{_pid: \" + curr_process[\"PID\"] + \", User: '\" + curr_process[\"User\"] +\n",
    "            \"', Group: '\" + curr_process[\"Group\"] + \"', Executable: '\" + execs + \"'})\")\n",
    "            is_first = False\n",
    "        else:\n",
    "            conn.query(\"create(n:process{_pid: \" + curr_process[\"PID\"] + \", User: '\" + curr_process[\"User\"] +\n",
    "            \"', Group: '\" + curr_process[\"Group\"] + \"', Executable: '\" + execs + \"'})\")\n",
    "    # now lets create relationships\n",
    "    is_first = True\n",
    "    for curr in processes_list:\n",
    "        if is_first: # becasue entry process is always at the begining of the list\n",
    "            is_first = False\n",
    "            for curr_child in curr['Children']:\n",
    "                conn.query(\"match (n:entry_process), (p:process) where n._pid=\"+curr['PID'] +\n",
    "                 \" and p._pid=\" + curr_child + \" create (n)-[r:spawns]->(p)\")\n",
    "        else:\n",
    "           for curr_child in curr['Children']:\n",
    "                conn.query(\"match (n:process), (p:process) where n._pid=\"+curr['PID'] +\n",
    "                 \" and p._pid=\" + curr_child + \" create (n)-[r:spawns]->(p)\") \n",
    "                "
   ]
  },
  {
   "cell_type": "code",
   "execution_count": null,
   "id": "44caff92",
   "metadata": {},
   "outputs": [],
   "source": [
    "if __name__ == \"__main__\":\n",
    "    main()\n",
    "\n"
   ]
  },
  {
   "cell_type": "code",
   "execution_count": null,
   "id": "664d2c5c",
   "metadata": {},
   "outputs": [],
   "source": [
    "import webbrowser\n",
    "webbrowser.open(\"view-from-the-adversarys-perspective.html\")"
   ]
  },
  {
   "cell_type": "code",
   "execution_count": null,
   "id": "90c43ab4",
   "metadata": {},
   "outputs": [],
   "source": []
  }
 ],
 "metadata": {
  "kernelspec": {
   "display_name": "Python 3",
   "language": "python",
   "name": "python3"
  },
  "language_info": {
   "codemirror_mode": {
    "name": "ipython",
    "version": 3
   },
   "file_extension": ".py",
   "mimetype": "text/x-python",
   "name": "python",
   "nbconvert_exporter": "python",
   "pygments_lexer": "ipython3",
   "version": "3.8.5"
  }
 },
 "nbformat": 4,
 "nbformat_minor": 5
}
